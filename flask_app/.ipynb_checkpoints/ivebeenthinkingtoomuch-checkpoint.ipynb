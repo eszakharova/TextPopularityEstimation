{
 "cells": [
  {
   "cell_type": "code",
   "execution_count": 1,
   "metadata": {
    "collapsed": true
   },
   "outputs": [],
   "source": [
    "import vk\n",
    "import time\n",
    "import numpy as np\n",
    "import pandas as pd\n",
    "from scipy.sparse import csr_matrix, hstack, vstack\n",
    "from pymystem3 import Mystem\n",
    "from sklearn.externals import joblib\n",
    "import re"
   ]
  },
  {
   "cell_type": "code",
   "execution_count": 2,
   "metadata": {
    "collapsed": true
   },
   "outputs": [],
   "source": [
    "token = '57cd155f4667cb9742308019070a8891e16de156dd902ee3206587b992f14a4e1abb7ab1976e62bad7579'\n",
    "# вход в учетную запись\n",
    "session = vk.Session(access_token=token)\n",
    "api = vk.API(session)\n"
   ]
  },
  {
   "cell_type": "code",
   "execution_count": 3,
   "metadata": {
    "collapsed": true
   },
   "outputs": [],
   "source": [
    "def clean(text):\n",
    "    text = text.replace('<br>', ' ')  # теги\n",
    "    text = re.sub('(?:http://|www\\.|https://){0,1}(?:[0-9]*[a-zA-Z]+[0-9]*\\.)+[a-zA-Z/\\.0-9?=\\-_]+',\n",
    "                  ' ', text)  # внешние ссылки\n",
    "    text = re.sub('club[0-9]+', ' ', text)  # ссылки на сообщества\n",
    "    text = re.sub('id[0-9]+', ' ', text)  # ссылки на личные станицы\n",
    "    text = re.sub('[\\[\\]\\|\\(\\)]+', '', text)  # лишние скобки\n",
    "    text = re.sub('\\W@\\W', ' ', text)  # улиточки\n",
    "    text = re.sub('\\W[0-9_-]{5,}\\W', ' ', text)  # больше 4 цифр подряд\n",
    "    text = re.sub('\\W0{3,}\\W', ' ', text)  # много нулей\n",
    "    #     text = re.sub('\\s[A-Z][a-z][A-Z][a-z]{0,1}', ' ', text) #остатки ссылок\n",
    "    return text\n",
    "\n",
    "\n",
    "group_coef_dict = dict()\n",
    "\n",
    "\n",
    "def get_group_coef(group_id):\n",
    "    global group_coef_dict\n",
    "    if group_id not in group_coef_dict:\n",
    "        off = 100\n",
    "        num_likes = []\n",
    "        num_followers = 1\n",
    "        while len(num_likes) < 500 and off <= 5000:\n",
    "            current_posts = api.wall.get(owner_id='-' + group_id, count=100, offset=off)\n",
    "            for post in current_posts[1:]:\n",
    "                # print(post)\n",
    "                num_likes.append(post['likes']['count'])\n",
    "            off += 100\n",
    "            # подождать немного, чтобы не привысить лимит запросов в секунду\n",
    "            time.sleep(0.1)\n",
    "        group_coef_dict[group_id] = np.mean(num_likes) / 100, num_followers\n",
    "        return np.mean(num_likes) / 100, num_followers\n",
    "    else:\n",
    "        return group_coef_dict[group_id]\n",
    "\n",
    "\n",
    "def browse_obscene():\n",
    "    f = open('../preprocessing/obscene_regs.txt', 'r')\n",
    "    obs_regs = [re.compile(i.strip(' \\n\\'')) for i in f.readlines()]\n",
    "    return obs_regs\n",
    "\n",
    "\n",
    "obscene_regs = browse_obscene()\n",
    "\n",
    "\n",
    "def browse_rusentilex():\n",
    "    fs = open('../preprocessing/rusentilex_2017.txt', 'r')\n",
    "    pre_sent_arr = [line.split(', ')[2:4] for line in fs.readlines() if not line.startswith('!')]\n",
    "    sent_arr = []\n",
    "    for i in range(len(pre_sent_arr)):\n",
    "        if pre_sent_arr[i][1] == 'neutral' or pre_sent_arr[i - 1][0] == pre_sent_arr[i][0]:\n",
    "            continue\n",
    "        else:\n",
    "            sent_arr.append(pre_sent_arr[i])\n",
    "    return sent_arr\n",
    "\n",
    "\n",
    "sent_arr = browse_rusentilex()"
   ]
  },
  {
   "cell_type": "code",
   "execution_count": 4,
   "metadata": {
    "collapsed": true
   },
   "outputs": [],
   "source": [
    "def browse_models():\n",
    "    knn = joblib.load('../model/knn0.sav')\n",
    "    frst = joblib.load('../model/frst0.sav')\n",
    "    vect = joblib.load('../model/tfidf_words.sav')\n",
    "    return knn, frst, vect\n",
    "\n",
    "\n",
    "knn, frst, vect = browse_models()"
   ]
  },
  {
   "cell_type": "code",
   "execution_count": 5,
   "metadata": {
    "collapsed": false
   },
   "outputs": [
    {
     "name": "stdout",
     "output_type": "stream",
     "text": [
      "15572\n"
     ]
    }
   ],
   "source": [
    "print(len(vect.get_feature_names()))"
   ]
  },
  {
   "cell_type": "code",
   "execution_count": 9,
   "metadata": {
    "collapsed": true
   },
   "outputs": [],
   "source": [
    "link = 'https://vk.com/tumblrs_horoscope?w=wall-97759957_471929'"
   ]
  },
  {
   "cell_type": "code",
   "execution_count": 10,
   "metadata": {
    "collapsed": false,
    "scrolled": true
   },
   "outputs": [],
   "source": [
    "m = Mystem()\n",
    "gr_id = re.findall('w=wall-([0-9]+)_', link)\n",
    "if gr_id != []:\n",
    "        coef, num_followers = get_group_coef(gr_id[0])\n",
    "        # page = requests.get(link)\n",
    "        # tree = html.fromstring(page.content)\n",
    "        # pre_text = tree.xpath('//div[@class=\"pi_text\"]/text()')\n",
    "        #\n",
    "        # text = ' '.join(pre_text)\n",
    "\n",
    "        post = api.wall.getById(posts='-' + link.split('-')[-1])[0]\n",
    "        text = post['text']\n",
    "        text = clean(text)\n",
    "        lemtext = ''.join(m.lemmatize(text))\n",
    "\n",
    "        obscene = []\n",
    "        for reg in obscene_regs:\n",
    "            found = re.findall(reg, text.lower())\n",
    "            obscene.extend(found)\n",
    "\n",
    "        neg_cnt = 0\n",
    "        pos_cnt = 0\n",
    "        for pair in sent_arr:\n",
    "            if pair[0] in lemtext:\n",
    "                if pair[1] == 'negative':\n",
    "                    neg_cnt += 1\n",
    "                else:\n",
    "                    pos_cnt += 1\n",
    "        attached = ' '.join([i['type'] for i in post['attachments']])\n",
    "        ph = len(re.findall('photo', attached))\n",
    "        link = len(re.findall('link', attached))\n",
    "        au = len(re.findall('audio', attached))\n",
    "        vid = len(re.findall('video', attached))\n",
    "        if  post['post_type'] == copy:\n",
    "            post = 0\n",
    "            copy = 1\n",
    "        else:\n",
    "            post = 1\n",
    "            copy = 0\n",
    "        \n",
    "        obj = pd.DataFrame(data=[[ph, link, au, vid, post['marked_as_ads'], len(text.split()), num_followers,\n",
    "                                 neg_cnt, pos_cnt, len(obscene), copy, post],\n",
    "                           columns=['AttPhoto', 'AttLink', 'AttAudio', 'AttVideo', 'IsAdd', 'Len',\n",
    "                                    'Followers', 'SentNeg', 'SentPos', 'ObsCount', 'copy', 'post'])\n",
    "\n",
    "        categ = obj['Type']\n",
    "        obj = obj.drop(['Type'], axis=1)\n",
    "        types = pd.get_dummies(categ)\n",
    "        obj = pd.concat((obj, types), axis=1).astype(int)\n",
    "       "
   ]
  },
  {
   "cell_type": "code",
   "execution_count": 11,
   "metadata": {
    "collapsed": false
   },
   "outputs": [
    {
     "data": {
      "text/html": [
       "<div>\n",
       "<table border=\"1\" class=\"dataframe\">\n",
       "  <thead>\n",
       "    <tr style=\"text-align: right;\">\n",
       "      <th></th>\n",
       "      <th>AttPhoto</th>\n",
       "      <th>AttLink</th>\n",
       "      <th>AttAudio</th>\n",
       "      <th>AttVideo</th>\n",
       "      <th>IsAdd</th>\n",
       "      <th>Len</th>\n",
       "      <th>Followers</th>\n",
       "      <th>SentNeg</th>\n",
       "      <th>SentPos</th>\n",
       "      <th>ObsCount</th>\n",
       "      <th>post</th>\n",
       "    </tr>\n",
       "  </thead>\n",
       "  <tbody>\n",
       "    <tr>\n",
       "      <th>0</th>\n",
       "      <td>1</td>\n",
       "      <td>0</td>\n",
       "      <td>0</td>\n",
       "      <td>0</td>\n",
       "      <td>0</td>\n",
       "      <td>39</td>\n",
       "      <td>1</td>\n",
       "      <td>4</td>\n",
       "      <td>0</td>\n",
       "      <td>0</td>\n",
       "      <td>1</td>\n",
       "    </tr>\n",
       "  </tbody>\n",
       "</table>\n",
       "</div>"
      ],
      "text/plain": [
       "   AttPhoto  AttLink  AttAudio  AttVideo  IsAdd  Len  Followers  SentNeg  \\\n",
       "0         1        0         0         0      0   39          1        4   \n",
       "\n",
       "   SentPos  ObsCount  post  \n",
       "0        0         0     1  "
      ]
     },
     "execution_count": 11,
     "metadata": {},
     "output_type": "execute_result"
    }
   ],
   "source": [
    "obj.head(10)"
   ]
  },
  {
   "cell_type": "code",
   "execution_count": null,
   "metadata": {
    "collapsed": true
   },
   "outputs": [],
   "source": [
    " obj_sparse = csr_matrix(obj)\n",
    "        print(obj_sparse.shape)\n",
    "        obj_tfidf = vect.transform(lemtext)\n",
    "        print(obj_tfidf.shape)"
   ]
  }
 ],
 "metadata": {
  "anaconda-cloud": {},
  "kernelspec": {
   "display_name": "Python [conda root]",
   "language": "python",
   "name": "conda-root-py"
  },
  "language_info": {
   "codemirror_mode": {
    "name": "ipython",
    "version": 3
   },
   "file_extension": ".py",
   "mimetype": "text/x-python",
   "name": "python",
   "nbconvert_exporter": "python",
   "pygments_lexer": "ipython3",
   "version": "3.5.2"
  }
 },
 "nbformat": 4,
 "nbformat_minor": 1
}
