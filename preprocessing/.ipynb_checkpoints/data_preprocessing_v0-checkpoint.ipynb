{
 "cells": [
  {
   "cell_type": "code",
   "execution_count": 1,
   "metadata": {
    "collapsed": true
   },
   "outputs": [],
   "source": [
    "import csv\n",
    "import pandas as pd\n",
    "import numpy as np\n",
    "import progressbar"
   ]
  },
  {
   "cell_type": "code",
   "execution_count": 3,
   "metadata": {
    "collapsed": false
   },
   "outputs": [],
   "source": [
    "data = pd.read_csv('../data/groups_data.csv', sep = ';', encoding='cp1251')\n",
    "stats = pd.read_csv('group_stats.csv', sep = ';', encoding='cp1251')"
   ]
  },
  {
   "cell_type": "code",
   "execution_count": 57,
   "metadata": {
    "collapsed": false,
    "scrolled": false
   },
   "outputs": [],
   "source": [
    "# row = data.iloc[2095]"
   ]
  },
  {
   "cell_type": "code",
   "execution_count": 58,
   "metadata": {
    "collapsed": false
   },
   "outputs": [],
   "source": [
    "# [clean(row['Text']), row['Type'], len(re.findall('photo', row['Attachments'])), \n",
    "#             len(re.findall('link', row['Attachments'])), len(re.findall('audio', row['Attachments'])), \n",
    "#            len(re.findall('video', row['Attachments'])), row['IsAdd'], len(clean(row['Text']).split()), \n",
    "#            row['Date'], \n",
    "#            round((int(row['Likes'])/int(stats['AvgLikes'][stats['GroupId'] == row['GroupId']]))*100, 4), \n",
    "#            round((int(row['Likes'])/int(stats['Followers'][stats['GroupId'] == row['GroupId']]))*100, 4), \n",
    "#            int(row['Likes']), int(stats['AvgLikes'][stats['GroupId'] == row['GroupId']]), \n",
    "#            int(stats['Followers'][stats['GroupId'] == row['GroupId']]), \n",
    "#            row['GroupId']]"
   ]
  },
  {
   "cell_type": "code",
   "execution_count": 42,
   "metadata": {
    "collapsed": true
   },
   "outputs": [],
   "source": [
    "import re\n",
    "def clean(text):\n",
    "    text = text.replace('<br>', ' ')\n",
    "    text = re.sub('club[0-9]+', ' ', text)\n",
    "    text = re.sub('id[0-9]+', ' ', text)\n",
    "    text = re.sub('[\\[\\]\\|\\(\\)]+', '', text)\n",
    "    text = re.sub('\\W@\\W', ' ', text)\n",
    "    return text"
   ]
  },
  {
   "cell_type": "code",
   "execution_count": 59,
   "metadata": {
    "collapsed": false
   },
   "outputs": [
    {
     "name": "stderr",
     "output_type": "stream",
     "text": [
      "100% (6988 of 6988) |#####################| Elapsed Time: 0:00:38 Time: 0:00:38\n"
     ]
    }
   ],
   "source": [
    "new = open('../model/data_preprocessed.csv', 'w', encoding='cp1251')\n",
    "row0 = ['Text', 'Type', 'AttPhoto', 'AttLink', 'AttAudio', 'AttVideo', 'IsAdd', 'Len', 'Date', \n",
    "        'LikesNormAvg', 'LikesNormFlw', 'Likes', 'AvgLikes','Followers', 'GroupId']\n",
    "# потенциальные признаки CountEmoji - список CountObscene - список, CountPos, CountNeg - RuSentiLex\n",
    "writer = csv.writer(new, delimiter=';', quotechar='\"', lineterminator='\\n', quoting=csv.QUOTE_NONNUMERIC)\n",
    "writer.writerow(row0)\n",
    "bar = progressbar.ProgressBar(max_value=len(data))\n",
    "upd = 1\n",
    "for i in range(len(data)):\n",
    "    row = data.iloc[i]\n",
    "    row1 = [clean(row['Text']), row['Type'], len(re.findall('photo', row['Attachments'])), \n",
    "            len(re.findall('link', row['Attachments'])), len(re.findall('audio', row['Attachments'])), \n",
    "           len(re.findall('video', row['Attachments'])), row['IsAdd'], len(clean(row['Text']).split()), \n",
    "           row['Date'], \n",
    "           (int(row['Likes'])/int(stats['AvgLikes'][stats['GroupId'] == row['GroupId']]))*100, \n",
    "           (int(row['Likes'])/int(stats['Followers'][stats['GroupId'] == row['GroupId']]))*100, \n",
    "           int(row['Likes']), int(stats['AvgLikes'][stats['GroupId'] == row['GroupId']]), \n",
    "           int(stats['Followers'][stats['GroupId'] == row['GroupId']]), \n",
    "           row['GroupId']]\n",
    "    writer.writerow(row1)\n",
    "    bar.update(upd)\n",
    "    upd += 1\n",
    "bar.finish()\n",
    "new.close()"
   ]
  },
  {
   "cell_type": "code",
   "execution_count": null,
   "metadata": {
    "collapsed": true
   },
   "outputs": [],
   "source": []
  }
 ],
 "metadata": {
  "anaconda-cloud": {},
  "kernelspec": {
   "display_name": "Python [conda root]",
   "language": "python",
   "name": "conda-root-py"
  },
  "language_info": {
   "codemirror_mode": {
    "name": "ipython",
    "version": 3
   },
   "file_extension": ".py",
   "mimetype": "text/x-python",
   "name": "python",
   "nbconvert_exporter": "python",
   "pygments_lexer": "ipython3",
   "version": "3.5.2"
  }
 },
 "nbformat": 4,
 "nbformat_minor": 1
}
