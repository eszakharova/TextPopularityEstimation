{
 "cells": [
  {
   "cell_type": "code",
   "execution_count": 1,
   "metadata": {
    "collapsed": true
   },
   "outputs": [],
   "source": [
    "import csv\n",
    "import pandas as pd\n",
    "import numpy as np\n",
    "import progressbar"
   ]
  },
  {
   "cell_type": "code",
   "execution_count": 2,
   "metadata": {
    "collapsed": false
   },
   "outputs": [],
   "source": [
    "data = pd.read_csv('../data/groups_data.csv', sep = ';', encoding='cp1251')\n",
    "stats = pd.read_csv('group_stats.csv', sep = ';', encoding='cp1251')"
   ]
  },
  {
   "cell_type": "code",
   "execution_count": 3,
   "metadata": {
    "collapsed": false,
    "scrolled": false
   },
   "outputs": [],
   "source": [
    "# row = data.iloc[2095]"
   ]
  },
  {
   "cell_type": "code",
   "execution_count": 4,
   "metadata": {
    "collapsed": false
   },
   "outputs": [],
   "source": [
    "# [clean(row['Text']), row['Type'], len(re.findall('photo', row['Attachments'])), \n",
    "#             len(re.findall('link', row['Attachments'])), len(re.findall('audio', row['Attachments'])), \n",
    "#            len(re.findall('video', row['Attachments'])), row['IsAdd'], len(clean(row['Text']).split()), \n",
    "#            row['Date'], \n",
    "#            round((int(row['Likes'])/int(stats['AvgLikes'][stats['GroupId'] == row['GroupId']]))*100, 4), \n",
    "#            round((int(row['Likes'])/int(stats['Followers'][stats['GroupId'] == row['GroupId']]))*100, 4), \n",
    "#            int(row['Likes']), int(stats['AvgLikes'][stats['GroupId'] == row['GroupId']]), \n",
    "#            int(stats['Followers'][stats['GroupId'] == row['GroupId']]), \n",
    "#            row['GroupId']]"
   ]
  },
  {
   "cell_type": "code",
   "execution_count": 10,
   "metadata": {
    "collapsed": false
   },
   "outputs": [],
   "source": [
    "import re\n",
    "def clean(text):\n",
    "    text = text.replace('<br>', ' ') # теги\n",
    "    text = re.sub('(?:http://|www\\.|https://){0,1}(?:[0-9]*[a-zA-Z]+[0-9]*\\.)+[a-zA-Z/\\.0-9?=\\-_]+', \n",
    "                  ' ', text) # внешние ссылки\n",
    "    text = re.sub('club[0-9]+', ' ', text) #ссылки на сообщества\n",
    "    text = re.sub('id[0-9]+', ' ', text) #ссылки на личные станицы\n",
    "    text = re.sub('[\\[\\]\\|\\(\\)]+', '', text) # лишние скобки\n",
    "    text = re.sub('\\W@\\W', ' ', text) # улиточки \n",
    "    text = re.sub('\\W[0-9_-]{5,}\\W', ' ', text) #больше 4 цифр подряд\n",
    "    text = re.sub('\\W0{3,}\\W', ' ', text) #много нулей\n",
    "#     text = re.sub('\\s[A-Z][a-z][A-Z][a-z]{0,1}', ' ', text) #остатки ссылок\n",
    "    return text"
   ]
  },
  {
   "cell_type": "code",
   "execution_count": 11,
   "metadata": {
    "collapsed": false
   },
   "outputs": [
    {
     "name": "stderr",
     "output_type": "stream",
     "text": [
      "100% (6988 of 6988) |#####################| Elapsed Time: 0:00:45 Time: 0:00:45\n"
     ]
    }
   ],
   "source": [
    "new = open('../model/data_preprocessed.csv', 'w', encoding='cp1251')\n",
    "row0 = ['Text', 'Type', 'AttPhoto', 'AttLink', 'AttAudio', 'AttVideo', 'IsAdd', 'Len', 'Date', \n",
    "        'LikesNormAvg', 'LikesNormFlw', 'Likes', 'AvgLikes','Followers', 'GroupId']\n",
    "writer = csv.writer(new, delimiter=';', quotechar='\"', lineterminator='\\n', quoting=csv.QUOTE_NONNUMERIC)\n",
    "writer.writerow(row0)\n",
    "bar = progressbar.ProgressBar(max_value=len(data))\n",
    "upd = 1\n",
    "for i in range(len(data)):\n",
    "    row = data.iloc[i]\n",
    "    if len(clean(row['Text']).split()) >= 3:\n",
    "        row1 = [clean(row['Text']), row['Type'], len(re.findall('photo', row['Attachments'])), \n",
    "                len(re.findall('link', row['Attachments'])), len(re.findall('audio', row['Attachments'])), \n",
    "               len(re.findall('video', row['Attachments'])), row['IsAdd'], len(clean(row['Text']).split()), \n",
    "               row['Date'], \n",
    "               (int(row['Likes'])/int(stats['AvgLikes'][stats['GroupId'] == row['GroupId']]))*100, \n",
    "               (int(row['Likes'])/int(stats['Followers'][stats['GroupId'] == row['GroupId']]))*100, \n",
    "               int(row['Likes']), int(stats['AvgLikes'][stats['GroupId'] == row['GroupId']]), \n",
    "               int(stats['Followers'][stats['GroupId'] == row['GroupId']]), \n",
    "               row['GroupId']]\n",
    "        writer.writerow(row1)\n",
    "    bar.update(upd)\n",
    "    upd += 1\n",
    "bar.finish()\n",
    "new.close()"
   ]
  },
  {
   "cell_type": "code",
   "execution_count": null,
   "metadata": {
    "collapsed": true
   },
   "outputs": [],
   "source": []
  }
 ],
 "metadata": {
  "anaconda-cloud": {},
  "kernelspec": {
   "display_name": "Python [conda root]",
   "language": "python",
   "name": "conda-root-py"
  },
  "language_info": {
   "codemirror_mode": {
    "name": "ipython",
    "version": 3
   },
   "file_extension": ".py",
   "mimetype": "text/x-python",
   "name": "python",
   "nbconvert_exporter": "python",
   "pygments_lexer": "ipython3",
   "version": "3.5.2"
  }
 },
 "nbformat": 4,
 "nbformat_minor": 1
}
